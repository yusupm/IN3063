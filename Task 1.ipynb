{
 "cells": [
  {
   "cell_type": "code",
   "execution_count": null,
   "id": "9a0d9cd5",
   "metadata": {},
   "outputs": [],
   "source": [
    "import numpy as np"
   ]
  },
  {
   "cell_type": "markdown",
   "id": "a2923a23",
   "metadata": {},
   "source": [
    "I used numpy library to generate a grid with heightxwidth size and random values in each cell between 0 and n"
   ]
  },
  {
   "cell_type": "code",
   "execution_count": null,
   "id": "565cd6de",
   "metadata": {},
   "outputs": [],
   "source": [
    "class GridGame:\n",
    "    # Initialising the game class with necessary args\n",
    "    def __init__(self, height, width, highest):\n",
    "        self.path = []\n",
    "        self.grid = np.random.randint(0, highest, size=(height, width))  # creating grid with random numbers between 0 and n with sizes passed in\n",
    "        # Print the gird in pretty way\n",
    "        print(RESET + \"Grid:\")\n",
    "        for a in self.grid:\n",
    "            print(\"   \" + str(a))\n",
    "        print()\n",
    "        self.height = height\n",
    "        self.width = width\n",
    "        self.posx = 0  # position x of the agent\n",
    "        self.posy = 0  # position y of the agent\n",
    "        self.cost = self.grid[self.posy][self.posx]  # cost of movement - starts with cost at position 0,0"
   ]
  },
  {
   "cell_type": "markdown",
   "id": "5e3fcc2a",
   "metadata": {},
   "source": [
    "Created a GridGame class that takes height, width and highest as arguments. When the class is initiated, a grid will be created and printed in the console as well as other variables that will be used in all functions/modes."
   ]
  },
  {
   "cell_type": "code",
   "execution_count": null,
   "id": "8336a762",
   "metadata": {},
   "outputs": [],
   "source": [
    "    def mode1(self):\n",
    "\n",
    "        # keep running the process until end point is reached\n",
    "        while (self.posy != self.height - 1) or (self.posx != self.width - 1):\n",
    "            goDown = False  # initialise a bool to check if going down is possible\n",
    "            goRight = False  # initialise a bool to check if going right is possible\n",
    "            rightCost = 0\n",
    "            downCost = 0\n",
    "            # check if a cell is available to move below\n",
    "            if self.posy < self.height - 1:\n",
    "                downCost = self.grid[self.posy + 1][self.posx]\n",
    "                goDown = True\n",
    "\n",
    "            # check if a cell is available to move right\n",
    "            if self.posx < self.width - 1:\n",
    "                rightCost = self.grid[self.posy][self.posx + 1]\n",
    "                goRight = True\n",
    "\n",
    "            # check if there is a way to both direction\n",
    "            if goDown and goRight:\n",
    "                # compare the costs\n",
    "                if rightCost > downCost:\n",
    "                    self.cost = self.cost + downCost\n",
    "                    self.posy = self.posy + 1  # change agent position\n",
    "                else:\n",
    "                    self.cost = self.cost + rightCost  # add the cost to total\n",
    "                    self.posx = self.posx + 1  # change agent position\n",
    "                self.path.append((self.posy, self.posx))  # Add position to path to keep track\n",
    "            else:\n",
    "                # check which direction is available to move\n",
    "                if goDown:\n",
    "                    self.cost = self.cost + downCost\n",
    "                    self.posy = self.posy + 1\n",
    "                elif goRight:\n",
    "                    self.cost = self.cost + rightCost\n",
    "                    self.posx = self.posx + 1\n",
    "                self.path.append((self.posy, self.posx))\n",
    "\n",
    "        return self.cost, self.path\n"
   ]
  },
  {
   "cell_type": "markdown",
   "id": "325ac200",
   "metadata": {},
   "source": [
    "This function is for the game mode with heuristic algorithm. In this mode, the time is the value on each cell. While loop is used to continue the process until end point is reached. Inside the loop, it checks for all possible cell that is available to move and stores the cost of that cell. If statements are used to find out if movement to both directions are possible. If the statement returns true, it compares the cost and moves to the least one. If it returns false, it moves to whichever direction possible."
   ]
  },
  {
   "cell_type": "code",
   "execution_count": null,
   "id": "3bc2c8ed",
   "metadata": {},
   "outputs": [],
   "source": [
    "    def mode2(self):\n",
    "        self.cost = 0  # set the cost to 1 since its start\n",
    "        # continue looking for paths until end cell is reached\n",
    "        while (self.posy != self.height - 1) or (self.posx != self.width - 1):\n",
    "            goDown = False\n",
    "            goRight = False\n",
    "            rightCost = 0\n",
    "            downCost = 0\n",
    "\n",
    "            if self.posy < self.height - 1:\n",
    "                # calculate the down cost, absolute value of the difference\n",
    "                downCost = abs(self.grid[self.posy][self.posx] - self.grid[self.posy + 1][self.posx])\n",
    "                goDown = True\n",
    "\n",
    "            if self.posx < self.width - 1:\n",
    "                # calculate the down cost, absolute value of the difference\n",
    "                rightCost = abs(self.grid[self.posy][self.posx] - self.grid[self.posy][self.posx + 1])\n",
    "                goRight = True\n",
    "\n",
    "            # check if movement to both positions are possible\n",
    "            if goDown and goRight:\n",
    "                # compare costs\n",
    "                if rightCost > downCost:\n",
    "                    self.cost = self.cost + downCost\n",
    "                    self.posy = self.posy + 1\n",
    "                else:\n",
    "                    self.cost = self.cost + rightCost\n",
    "                    self.posx = self.posx + 1\n",
    "                self.path.append((self.posy, self.posx))\n",
    "            else:\n",
    "                if goDown:\n",
    "                    self.cost = self.cost + downCost\n",
    "                    self.posy = self.posy + 1\n",
    "                elif goRight:\n",
    "                    self.cost = self.cost + rightCost\n",
    "                    self.posx = self.posx + 1\n",
    "                self.path.append((self.posy, self.posx))\n",
    "\n",
    "        return self.cost, self.path"
   ]
  },
  {
   "cell_type": "markdown",
   "id": "f65eba5e",
   "metadata": {},
   "source": [
    "Mode 2 function uses the same algorithm. Only difference is that, mode 2 starts with 0 cost since there is no previous cell. The cost calculation is also different in this mode. It is calculated by finding the absolute difference between the values between cell it was on previous and the current cell."
   ]
  },
  {
   "cell_type": "code",
   "execution_count": null,
   "id": "31663f50",
   "metadata": {},
   "outputs": [],
   "source": [
    "    def find_neighbours(self):\n",
    "        neighbours = {}\n",
    "        positions = []\n",
    "\n",
    "        if self.posx + 1 < self.width - 1:\n",
    "            positions.append((self.posy, self.posx + 1))\n",
    "        if self.posx - 1 > 0:\n",
    "            positions.append((self.posy, self.posx - 1))\n",
    "        if self.posy + 1 < self.height - 1:\n",
    "            positions.append((self.posy + 1, self.posx))\n",
    "        if self.posy - 1 > 0:\n",
    "            positions.append((self.posy - 1, self.posx))\n",
    "\n",
    "        for i in positions:\n",
    "            neighbours[i] = self.grid[i[0], i[1]]\n",
    "        return neighbours"
   ]
  },
  {
   "cell_type": "markdown",
   "id": "08895192",
   "metadata": {},
   "source": [
    "This function is used to find all the neighbours with the values. This function is used for Dijkstra's method."
   ]
  },
  {
   "cell_type": "code",
   "execution_count": null,
   "id": "54b0e689",
   "metadata": {},
   "outputs": [],
   "source": [
    "    def dijkstra1(self):\n",
    "        neighbours = self.find_neighbours()\n",
    "        unvisited = {}\n",
    "        visited = {}\n",
    "        for i in range(len(self.grid)):\n",
    "            for j in range(len(self.grid[i])):\n",
    "                unvisited[(i, j)] = 999999\n",
    "\n",
    "        # print(unvisited)\n",
    "        while unvisited:\n",
    "            minNode = min(unvisited, key=unvisited.get)\n",
    "            visited[minNode] = unvisited[minNode]\n",
    "\n",
    "            for neighbour in neighbours:\n",
    "                if neighbour in visited:\n",
    "                    pass\n",
    "                tempDist = unvisited[minNode] + neighbours[neighbour]\n",
    "                if tempDist < unvisited[neighbour]:\n",
    "                    unvisited[neighbour] = tempDist\n",
    "            unvisited.pop(minNode)\n",
    "        print(f'{visited=}')\n",
    "\n",
    "        return self.cost, self.path"
   ]
  },
  {
   "cell_type": "markdown",
   "id": "be42212a",
   "metadata": {},
   "source": []
  },
  {
   "cell_type": "code",
   "execution_count": null,
   "id": "8a8a287a",
   "metadata": {},
   "outputs": [],
   "source": [
    "def main():\n",
    "    # Main menu\n",
    "    print(BLUE + \"     Welcome to Grid Game    \\n\" )\n",
    "    print(CYAN + \"Game types:\")\n",
    "    print(CYAN + \"1. Normal\")\n",
    "    print(CYAN + \"2. Dijkstra\")\n",
    "    gameType = int(input(\"Choose: \"))\n",
    "    print()\n",
    "    # While loop to ensure user chose the right mode\n",
    "    while True:\n",
    "        print(CYAN + \"Game Modes:\")\n",
    "        print(\"1. Mode 1\")\n",
    "        print(\"2. Mode 2\")\n",
    "        modeNo = int(input(MAGENTA + \"Choose your mode: \" + RESET))\n",
    "        if modeNo > 2:\n",
    "            print(RED + \"\\nIncorrect Mode, Chose again\\n\")\n",
    "            continue\n",
    "        break\n",
    "    # user input\n",
    "    height = int(input(MAGENTA + \"Height of the grid: \"))\n",
    "    width = int(input(\"Width of the grid: \"))\n",
    "    highest = int(input(\"Enter max range for random numbers in grid: \"))\n",
    "    # initialise a game class with user input\n",
    "    game = GridGame(height, width, highest)\n",
    "\n",
    "    if gameType == 1:\n",
    "        if modeNo == 1:\n",
    "            cost, path = game.mode1()\n",
    "        elif modeNo == 2:\n",
    "            cost, path = game.mode2()\n",
    "    else:\n",
    "        if modeNo == 1:\n",
    "            cost, path = game.dijkstra1()\n",
    "    # print final result\n",
    "    print(YELLOW + \"Total cost: \" + str(cost))\n",
    "    print(YELLOW + \"Path: \", end='')\n",
    "    if path:\n",
    "        for a in path[:-1]:\n",
    "            print(a, end=\", \")\n",
    "        print(path[-1:][0])\n",
    "    else:\n",
    "        print(\"N/A\")\n",
    "    print(RESET)\n",
    "\n",
    "main()"
   ]
  },
  {
   "cell_type": "markdown",
   "id": "ba3b4e37",
   "metadata": {},
   "source": [
    "Main function allows the user to easily select and change game modes and parameters such as height and width of the grid"
   ]
  }
 ],
 "metadata": {
  "kernelspec": {
   "display_name": "Python 3",
   "language": "python",
   "name": "python3"
  },
  "language_info": {
   "codemirror_mode": {
    "name": "ipython",
    "version": 3
   },
   "file_extension": ".py",
   "mimetype": "text/x-python",
   "name": "python",
   "nbconvert_exporter": "python",
   "pygments_lexer": "ipython3",
   "version": "3.6.13"
  }
 },
 "nbformat": 4,
 "nbformat_minor": 5
}
